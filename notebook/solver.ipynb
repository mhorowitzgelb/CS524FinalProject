{
 "cells": [
  {
   "cell_type": "code",
   "execution_count": 14,
   "metadata": {},
   "outputs": [
    {
     "name": "stdout",
     "output_type": "stream",
     "text": [
      "../data/"
     ]
    },
    {
     "data": {
      "text/plain": [
       "12×6 Array{Float64,2}:\n",
       " 110.0  168.0   90.0   86.0  50.0  45.0\n",
       " 131.5  174.0  130.0   90.0  68.0  60.0\n",
       " 169.5  195.0  175.0   96.0  70.0  60.0\n",
       " 195.0  213.0  195.0  106.0  70.0  60.0\n",
       " 180.0  235.0  178.0  120.0  87.0  75.0\n",
       " 165.0  260.0  162.0  130.0  90.0  70.0\n",
       " 155.0  241.0  152.0  124.0  78.0  65.0\n",
       " 145.0  210.0  146.0  105.0  77.0  65.0\n",
       " 132.5  189.0  130.0   94.0  60.0  65.0\n",
       " 138.5  165.0  136.0   82.0  60.0  65.0\n",
       " 122.5  160.0  120.0   80.0  42.0  50.0\n",
       " 102.5  158.0  100.0   80.0  40.0  50.0"
      ]
     },
     "execution_count": 14,
     "metadata": {},
     "output_type": "execute_result"
    }
   ],
   "source": [
    "# readin data\n",
    "win_dir = \"..\\data\\\\\"\n",
    "unix_dir = \"../data/\"\n",
    "if(isdir(win_dir))\n",
    "    data_dir = win_dir\n",
    "elseif(isdir(unix_dir))\n",
    "    data_dir = unix_dir\n",
    "end\n",
    "print(data_dir)\n",
    "\n",
    "#cost of transhipment over boat. Takes one month\n",
    "ocean_costs = readdlm(data_dir*\"ocean_cost.tsv\", '\\t')\n",
    "temp = zeros()\n",
    "#cost of transhipment over air. Instant\n",
    "air_costs = readdlm(data_dir*\"air_cost.tsv\", '\\t')\n",
    "\n",
    "#costs to hold a boat at non retail location\n",
    "holding_costs = readdlm(data_dir*\"holding_cost.tsv\",'\\t')\n",
    "risk_costs = readdlm(data_dir*\"risk_cost.tsv\", '\\t')\n",
    "demand_7536 = readdlm(data_dir*\"demand_7536.tsv\",'\\t')\n",
    "demand_7878 = readdlm(data_dir*\"demand_7878.tsv\",'\\t')\n",
    "demand_7585 = readdlm(data_dir*\"demand_7585.tsv\",'\\t')\n"
   ]
  },
  {
   "cell_type": "code",
   "execution_count": 41,
   "metadata": {},
   "outputs": [
    {
     "data": {
      "text/plain": [
       "\"7536\""
      ]
     },
     "execution_count": 41,
     "metadata": {},
     "output_type": "execute_result"
    }
   ],
   "source": [
    "#Scaling of cost from undersupplying demand\n",
    "lambda = 100\n",
    "\n",
    "#net profit per boat at each retailer\n",
    "net_profit_7536 = 1000*ones(6)\n",
    "net_profit_7878 = 100*ones(6)\n",
    "net_profit_7585 = 100*ones(6)\n",
    "\n",
    "cur_product = \"7536\""
   ]
  },
  {
   "cell_type": "code",
   "execution_count": 42,
   "metadata": {
    "collapsed": true
   },
   "outputs": [],
   "source": [
    "# Select current profit/boat at each retailer\n",
    "if cur_product == \"7536\"\n",
    "    net_profit = net_profit_7536\n",
    "    demand = demand_7536\n",
    "elseif cur_product == \"7878\"\n",
    "    net_profit = net_profit_7878\n",
    "    demand = demand_7878\n",
    "elseif cur_product == \"7585\"\n",
    "    net_profit = net_profit_7585\n",
    "    demand = demand_7585\n",
    "end\n",
    "\n",
    "#define an inverse incidence tensor for our flow (0 implies incidence)\n",
    "#inv_incidence_tensor[t1,n1,t2,n2] = 0 implies\n",
    "#node 1 at time t1 may send product to node 2 at time t2\n",
    "#Note: There are 1:15 real nodes that represent locations,\n",
    "#and 16:21 dummy nodes used to model undersupplying demand\n",
    "inv_incidence_tensor = ones(12,21,12,21)\n",
    "\n",
    "#cost of flows\n",
    "cost_tensor = zeros(12,21,12,21)\n",
    "\n",
    "#Expedite edges\n",
    "for t in 1:12\n",
    "    #1 can expedite to its hubs\n",
    "    inv_incidence_tensor[t,1,t,2:3] = 0\n",
    "    cost_tensor[t,1,t,2:3] = air_costs[1,2:3]\n",
    "    \n",
    "    \n",
    "    #2 can expedite to its dc's\n",
    "    inv_incidence_tensor[t,2,t,4:6] = 0\n",
    "    cost_tensor[t,2,t,4:6] = air_costs[2,4:6]\n",
    "    \n",
    "    #3 can expedite to its dc's\n",
    "    inv_incidence_tensor[t,3,t,7:9] = 0\n",
    "    cost_tensor[t,3,t,7:9] = air_costs[3,7:9]\n",
    "    \n",
    "    #Some Dc's can expedite to eachother\n",
    "    inv_incidence_tensor[t,4,t,5] = 0\n",
    "    cost_tensor[t,4,t,5] = air_costs[4,5]\n",
    "    inv_incidence_tensor[t,5,t,4] = 0\n",
    "    cost_tensor[t,5,t,4] = air_costs[5,4]\n",
    "    inv_incidence_tensor[t,7,t,8] = 0\n",
    "    cost_tensor[t,7,t,8] = air_costs[7,8]\n",
    "    inv_incidence_tensor[t,8,t,7] = 0\n",
    "    cost_tensor[t,8,t,7] = air_costs[8,7]\n",
    "    inv_incidence_tensor[t,8,t,9] = 0\n",
    "    cost_tensor[t,8,t,9] = air_costs[8,9]\n",
    "    inv_incidence_tensor[t,9,t,8] = 0\n",
    "    cost_tensor[t,9,t,8] = air_costs[9,8]\n",
    "    \n",
    "    #Dc's can expedite to retailers\n",
    "    for i in 4:9 \n",
    "        inv_incidence_tensor[t,i,t,i+6] = 0\n",
    "        cost_tensor[t,i,t,i+6] = air_costs[i,i+6] - net_profit[i-3]\n",
    "    end\n",
    "end\n",
    "\n",
    "#Shipping edges\n",
    "for t in 1:11\n",
    "    #1 can ship to its hubs\n",
    "    inv_incidence_tensor[t,1,t+1,2:3] = 0\n",
    "    cost_tensor[t,1,t+1,2:3] = ocean_costs[1,2:3]\n",
    "    \n",
    "    \n",
    "    #2 can ship to its dc's\n",
    "    inv_incidence_tensor[t,2,t+1,4:6] = 0\n",
    "    cost_tensor[t,2,t+1,4:6] = ocean_costs[2,4:6]\n",
    "    \n",
    "    #3 can ship to its dc's\n",
    "    inv_incidence_tensor[t,3,t+1,7:9] = 0\n",
    "    cost_tensor[t,3,t+1,7:9] = ocean_costs[3,7:9]\n",
    "    \n",
    "    #Some Dc's can ship to eachother\n",
    "    inv_incidence_tensor[t,4,t+1,5] = 0\n",
    "    cost_tensor[t,4,t+1,5] = ocean_costs[4,5]\n",
    "    inv_incidence_tensor[t,5,t+1,4] = 0\n",
    "    cost_tensor[t,5,t+1,4] = ocean_costs[5,4]\n",
    "    inv_incidence_tensor[t,7,t+1,8] = 0\n",
    "    cost_tensor[t,7,t+1,8] = ocean_costs[7,8]\n",
    "    inv_incidence_tensor[t,8,t+1,7] = 0\n",
    "    cost_tensor[t,8,t+1,7] = ocean_costs[8,7]\n",
    "    inv_incidence_tensor[t,8,t+1,9] = 0\n",
    "    cost_tensor[t,8,t+1,9] = ocean_costs[8,9]\n",
    "    inv_incidence_tensor[t,9,t+1,8] = 0\n",
    "    cost_tensor[t,9,t+1,8] = ocean_costs[9,8]\n",
    "    \n",
    "    #Dc's can ship to retailers\n",
    "    for i in 4:9 \n",
    "        inv_incidence_tensor[t,i,t+1,i+6] = 0\n",
    "        cost_tensor[t,i,t+1,i+6] = ocean_costs[i,i+6] - net_profit[i-3]\n",
    "    end\n",
    "end\n",
    "\n",
    "#Holding edges\n",
    "for t in 1:11\n",
    "    for n in 1:9\n",
    "        inv_incidence_tensor[t,n,t+1,n] = 0\n",
    "        cost_tensor[t,n,t+1,n] = holding_costs[n]\n",
    "    end\n",
    "end\n",
    "\n",
    "#Dummy underDemand nodes (16:21). Used to represent when we under supply demand to retailers\n",
    "for t in 1:12\n",
    "    for n in 10:15\n",
    "        inv_incidence_tensor[t,n+6,t,n] = 0\n",
    "        cost_tensor[t,n+6,t,n] = lambda * risk_costs[n-9]\n",
    "    end\n",
    "end\n",
    "\n"
   ]
  },
  {
   "cell_type": "code",
   "execution_count": 43,
   "metadata": {},
   "outputs": [
    {
     "data": {
      "text/plain": [
       ":Optimal"
      ]
     },
     "execution_count": 43,
     "metadata": {},
     "output_type": "execute_result"
    }
   ],
   "source": [
    "using JuMP, Clp\n",
    "#model\n",
    "m = Model(solver =ClpSolver())\n",
    "\n",
    "#Flow tensor\n",
    "@variable(m, flow[1:12,1:21,1:12,1:21] >= 0)\n",
    "\n",
    "#only allow edges defined by inv_incidence_tensor\n",
    "@constraint(m, sum(flow .* inv_incidence_tensor) == 0)\n",
    "\n",
    "#require conservation of flow for nodes 2:9\n",
    "for n in 2:9\n",
    "    for t in 1:12\n",
    "        @constraint(m,sum(flow[:,:,t,n]) - sum(flow[t,n,:,:]) == 0)\n",
    "    end\n",
    "end\n",
    "\n",
    "#require demands to be made by true supply and dummy nodes\n",
    "for n in 10:15\n",
    "    for t in 1:12\n",
    "        @constraint(m, sum(flow[:,:,t,n]) == demand[t,n-9])\n",
    "    end\n",
    "end\n",
    "\n",
    "#maximize profit by minimizing cost\n",
    "@objective(m, Min, sum(flow.* cost_tensor))\n",
    "solve(m)\n"
   ]
  },
  {
   "cell_type": "code",
   "execution_count": 46,
   "metadata": {},
   "outputs": [
    {
     "name": "stdout",
     "output_type": "stream",
     "text": [
      "Optimal solution achieves $6.8924168e6 in profit.\n"
     ]
    }
   ],
   "source": [
    "println(\"Optimal solution achieves \\$\", -getobjectivevalue(m), \" in profit.\")"
   ]
  },
  {
   "cell_type": "code",
   "execution_count": 50,
   "metadata": {},
   "outputs": [
    {
     "name": "stdout",
     "output_type": "stream",
     "text": [
      "Total boats sold: 12132.0\n",
      "Boats sold in month 1: 846.0\n",
      "Boats sold in month 2: 949.0\n",
      "Boats sold in month 3: 1101.0\n",
      "Boats sold in month 4: 1159.0\n",
      "Boats sold in month 5: 1206.0\n",
      "Boats sold in month 6: 1203.0\n",
      "Boats sold in month 7: 1093.0\n",
      "Boats sold in month 8: 1060.0\n",
      "Boats sold in month 9: 943.0\n",
      "Boats sold in month 10: 874.0\n",
      "Boats sold in month 11: 885.0\n",
      "Boats sold in month 12: 813.0\n"
     ]
    }
   ],
   "source": [
    "flow_val = getvalue(flow)\n",
    "println(\"Total boats sold: \", sum(flow_val[:,1,:,:]))\n",
    "for t in 1:12\n",
    "    println(\"Boats sold in month \", t, \": \", sum(flow_val[:,:,t,10:15]))\n",
    "end"
   ]
  },
  {
   "cell_type": "code",
   "execution_count": 52,
   "metadata": {},
   "outputs": [
    {
     "name": "stdout",
     "output_type": "stream",
     "text": [
      "Boats held after month 1: 0.0\n",
      "Boats held after month 2: 0.0\n",
      "Boats held after month 3: 0.0\n",
      "Boats held after month 4: 0.0\n",
      "Boats held after month 5: 0.0\n",
      "Boats held after month 6: 0.0\n",
      "Boats held after month 7: 0.0\n",
      "Boats held after month 8: 0.0\n",
      "Boats held after month 9: 0.0\n",
      "Boats held after month 10: 0.0\n",
      "Boats held after month 11: 0.0\n"
     ]
    }
   ],
   "source": [
    "for t in 1:11\n",
    "    total = 0\n",
    "    for n in 1:9\n",
    "        total += flow_val[t,n,t+1,n]\n",
    "    end\n",
    "    println(\"Boats held after month \",t, \": \", total)\n",
    "end"
   ]
  },
  {
   "cell_type": "code",
   "execution_count": null,
   "metadata": {
    "collapsed": true
   },
   "outputs": [],
   "source": []
  }
 ],
 "metadata": {
  "kernelspec": {
   "display_name": "Julia 0.5.1",
   "language": "julia",
   "name": "julia-0.5"
  },
  "language_info": {
   "file_extension": ".jl",
   "mimetype": "application/julia",
   "name": "julia",
   "version": "0.5.1"
  }
 },
 "nbformat": 4,
 "nbformat_minor": 2
}
